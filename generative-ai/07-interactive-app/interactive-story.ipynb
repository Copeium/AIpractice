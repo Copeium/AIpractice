{
 "cells": [
  {
   "cell_type": "markdown",
   "id": "4ed20c69",
   "metadata": {},
   "source": [
    "### 🧙 Lab 7 – Interactive Storytelling App with Choices\n",
    "\n",
    "In this lab, you'll build a **Gradio app** that generates a branching story — like a role-playing game.  \n",
    "The AI writes a chapter, then offers **three possible directions**. You choose what happens next.\n",
    "\n",
    "Each time you click a button, a new chapter is written, and the story continues endlessly.\n",
    "\n",
    "**🛠️ TODO**\n",
    "\n",
    "Find the `# TODO` in the code and complete the `ollama.chat(...)` call.  \n",
    "You'll need to pass a **system message** and a **user prompt** — just like in the earlier labs."
   ]
  },
  {
   "cell_type": "code",
   "execution_count": null,
   "id": "962dc657",
   "metadata": {},
   "outputs": [
    {
     "data": {
      "application/vnd.jupyter.widget-view+json": {
       "model_id": "f68fe01dbe0143c0b7396a929d2f9056",
       "version_major": 2,
       "version_minor": 0
      },
      "text/plain": [
       "Loading pipeline components...:   0%|          | 0/9 [00:00<?, ?it/s]"
      ]
     },
     "metadata": {},
     "output_type": "display_data"
    },
    {
     "name": "stderr",
     "output_type": "stream",
     "text": [
      "You set `add_prefix_space`. The tokenizer needs to be converted from the slow tokenizers\n"
     ]
    },
    {
     "data": {
      "application/vnd.jupyter.widget-view+json": {
       "model_id": "a17fab24651447e08f6f0e48b46300ab",
       "version_major": 2,
       "version_minor": 0
      },
      "text/plain": [
       "Loading checkpoint shards:   0%|          | 0/2 [00:00<?, ?it/s]"
      ]
     },
     "metadata": {},
     "output_type": "display_data"
    },
    {
     "name": "stdout",
     "output_type": "stream",
     "text": [
      "* Running on local URL:  http://0.0.0.0:8080\n",
      "* To create a public link, set `share=True` in `launch()`.\n"
     ]
    },
    {
     "data": {
      "text/html": [
       "<div><iframe src=\"http://localhost:8080/\" width=\"100%\" height=\"500\" allow=\"autoplay; camera; microphone; clipboard-read; clipboard-write;\" frameborder=\"0\" allowfullscreen></iframe></div>"
      ],
      "text/plain": [
       "<IPython.core.display.HTML object>"
      ]
     },
     "metadata": {},
     "output_type": "display_data"
    },
    {
     "name": "stderr",
     "output_type": "stream",
     "text": [
      "Token indices sequence length is longer than the specified maximum sequence length for this model (336 > 77). Running this sequence through the model will result in indexing errors\n",
      "The following part of your input was truncated because CLIP can only handle sequences up to 77 tokens: [\"a den of shadows and cheap ale. i 'd spent the last three days gathering information, bribing dockworkers, and generally making myself a nuisance. now, i was here, a battered leather - bound journal clutched in my hand, detailing every boast, every threat, every weakness o ’ racio had ever uttered. the tavern door groaned open, revealing a haze of smoke and the raucous laughter of sailors and criminals. o ’ racio was exactly where i ’ d expected him to be, slumped over a table, a half - empty tankard of grog beside him. he looked up as i entered, his eyes cold and calculating. “ well, well,” he drawled, a cruel smile twisting his lips. “ looks like someone finally decided to pay the piper.” he gestured to a couple of hulking brutes standing beside him, their faces scarred and intimidating. “ perhaps you should rethink your ambitions, little man.” 1. attempt a direct assault on o ’ racio and his bodyguards. 2. try to distract the guards with a cleverly staged distraction. 3. secretly slip out of the tavern and abandon the quest, accepting defeat.\"]\n",
      "Token indices sequence length is longer than the specified maximum sequence length for this model (336 > 77). Running this sequence through the model will result in indexing errors\n",
      "The following part of your input was truncated because CLIP can only handle sequences up to 77 tokens: [\"a den of shadows and cheap ale. i 'd spent the last three days gathering information, bribing dockworkers, and generally making myself a nuisance. now, i was here, a battered leather - bound journal clutched in my hand, detailing every boast, every threat, every weakness o ’ racio had ever uttered. the tavern door groaned open, revealing a haze of smoke and the raucous laughter of sailors and criminals. o ’ racio was exactly where i ’ d expected him to be, slumped over a table, a half - empty tankard of grog beside him. he looked up as i entered, his eyes cold and calculating. “ well, well,” he drawled, a cruel smile twisting his lips. “ looks like someone finally decided to pay the piper.” he gestured to a couple of hulking brutes standing beside him, their faces scarred and intimidating. “ perhaps you should rethink your ambitions, little man.” 1. attempt a direct assault on o ’ racio and his bodyguards. 2. try to distract the guards with a cleverly staged distraction. 3. secretly slip out of the tavern and abandon the quest, accepting defeat.\"]\n",
      "The following part of your input was truncated because `max_sequence_length` is set to  256 tokens: [\"s. He was holed up in the Salty Siren tavern, a den of shadows and cheap ale. I'd spent the last three days gathering information, bribing dockworkers, and generally making myself a nuisance. Now, I was here, a battered leather-bound journal clutched in my hand, detailing every boast, every threat, every weakness O’Racio had ever uttered. The tavern door groaned open, revealing a haze of smoke and the raucous laughter of sailors and criminals. O’Racio was exactly where I’d expected him to be, slumped over a table, a half-empty tankard of grog beside him. He looked up as I entered, his eyes cold and calculating. “Well, well,” he drawled, a cruel smile twisting his lips. “Looks like someone finally decided to pay the piper.” He gestured to a couple of hulking brutes standing beside him, their faces scarred and intimidating. “Perhaps you should rethink your ambitions, little man.” 1. Attempt a direct assault on O’Racio and his bodyguards. 2. Try to distract the guards with a cleverly staged distraction. 3. Secretly slip out of the tavern and abandon the quest, accepting defeat.\"]\n"
     ]
    },
    {
     "data": {
      "application/vnd.jupyter.widget-view+json": {
       "model_id": "7c73202809604ad398a85586528d4041",
       "version_major": 2,
       "version_minor": 0
      },
      "text/plain": [
       "  0%|          | 0/20 [00:00<?, ?it/s]"
      ]
     },
     "metadata": {},
     "output_type": "display_data"
    },
    {
     "name": "stdout",
     "output_type": "stream",
     "text": [
      "WARNING: Defaulting repo_id to hexgrad/Kokoro-82M. Pass repo_id='hexgrad/Kokoro-82M' to suppress this warning.\n"
     ]
    },
    {
     "name": "stderr",
     "output_type": "stream",
     "text": [
      "/root/myStuff/AIpractice/.venv/lib/python3.11/site-packages/torch/nn/modules/rnn.py:123: UserWarning: dropout option adds dropout after all but last recurrent layer, so non-zero dropout expects num_layers greater than 1, but got dropout=0.2 and num_layers=1\n",
      "  warnings.warn(\n",
      "/root/myStuff/AIpractice/.venv/lib/python3.11/site-packages/torch/nn/utils/weight_norm.py:143: FutureWarning: `torch.nn.utils.weight_norm` is deprecated in favor of `torch.nn.utils.parametrizations.weight_norm`.\n",
      "  WeightNorm.apply(module, name, dim)\n",
      "The following part of your input was truncated because CLIP can only handle sequences up to 77 tokens: [\"le above a noodle bar specializing in synthetic protein, smelled of stale ramen and desperation. chronosync had been breathing down my neck for weeks, demanding a decryption key – a key i didn ’ t possess, and a debt i swore i ’ d never owe. tonight, though, felt different. a low - level scanner, scavenged from a discarded drone, picked up a coded signal emanating from a dilapidated warehouse district on the far side of the city. it wasn 't a standard chronosync frequency ; it was … organic. this felt like a lead, a chance to finally vanish, or perhaps, a trap laid by someone far more dangerous than the corporation. i adjusted the grip on my pulse pistol and headed out, the rain mirroring the unsettling feeling in my gut. 1. follow the signal directly to the warehouse, risking a confrontation with whatever is broadcasting it. 2. attempt to trace the signal's origin further, delving into the city ’ s black market data streams for clues. 3. ignore the signal and attempt to lay low, hoping chronosync ’ s demands would simply fade away.\"]\n",
      "The following part of your input was truncated because CLIP can only handle sequences up to 77 tokens: [\"le above a noodle bar specializing in synthetic protein, smelled of stale ramen and desperation. chronosync had been breathing down my neck for weeks, demanding a decryption key – a key i didn ’ t possess, and a debt i swore i ’ d never owe. tonight, though, felt different. a low - level scanner, scavenged from a discarded drone, picked up a coded signal emanating from a dilapidated warehouse district on the far side of the city. it wasn 't a standard chronosync frequency ; it was … organic. this felt like a lead, a chance to finally vanish, or perhaps, a trap laid by someone far more dangerous than the corporation. i adjusted the grip on my pulse pistol and headed out, the rain mirroring the unsettling feeling in my gut. 1. follow the signal directly to the warehouse, risking a confrontation with whatever is broadcasting it. 2. attempt to trace the signal's origin further, delving into the city ’ s black market data streams for clues. 3. ignore the signal and attempt to lay low, hoping chronosync ’ s demands would simply fade away.\"]\n",
      "The following part of your input was truncated because `max_sequence_length` is set to  256 tokens: [\"of augmented citizens and flickering holograms. My apartment, a cramped cubicle above a noodle bar specializing in synthetic protein, smelled of stale ramen and desperation. Chronosync had been breathing down my neck for weeks, demanding a decryption key – a key I didn’t possess, and a debt I swore I’d never owe. Tonight, though, felt different. A low-level scanner, scavenged from a discarded drone, picked up a coded signal emanating from a dilapidated warehouse district on the far side of the city. It wasn't a standard Chronosync frequency; it was... organic. This felt like a lead, a chance to finally vanish, or perhaps, a trap laid by someone far more dangerous than the corporation. I adjusted the grip on my pulse pistol and headed out, the rain mirroring the unsettling feeling in my gut. 1. Follow the signal directly to the warehouse, risking a confrontation with whatever is broadcasting it. 2. Attempt to trace the signal's origin further, delving into the city’s black market data streams for clues. 3. Ignore the signal and attempt to lay low, hoping Chronosync’s demands would simply fade away.\"]\n"
     ]
    },
    {
     "data": {
      "application/vnd.jupyter.widget-view+json": {
       "model_id": "fb16c46fecbb416c80e441c8fd99dc8a",
       "version_major": 2,
       "version_minor": 0
      },
      "text/plain": [
       "  0%|          | 0/20 [00:00<?, ?it/s]"
      ]
     },
     "metadata": {},
     "output_type": "display_data"
    },
    {
     "name": "stdout",
     "output_type": "stream",
     "text": [
      "WARNING: Defaulting repo_id to hexgrad/Kokoro-82M. Pass repo_id='hexgrad/Kokoro-82M' to suppress this warning.\n"
     ]
    },
    {
     "name": "stderr",
     "output_type": "stream",
     "text": [
      "The following part of your input was truncated because CLIP can only handle sequences up to 77 tokens: [\"activated my comm, attempting to contact a few of my less - than - reliable associates, but the line was jammed. chronosync had tightened its grip, erecting digital barriers across the city ’ s lower networks. hours bled into a monotonous cycle of lukewarm protein paste and flickering surveillance feeds. just as i was starting to believe my luck was truly out, a distorted message crackled through my implant – a private channel, untraceable. “ meet me. the serpent ’ s tooth. midnight.” no sender. no context. just the ominous directive. i checked my pulse pistol, its metallic coldness a familiar comfort. the serpent ’ s tooth was a notorious dive bar in the red district, a haven for smugglers, hackers, and generally undesirable elements. it was a place chronosync actively avoided, yet venturing there felt like stepping into the heart of the city's underbelly, a gamble with potentially catastrophic consequences. 1. head straight to the serpent ’ s tooth, prioritizing discretion and hoping to uncover the message ’ s origin. 2. attempt to hack into chronosync ’ s servers, hoping to discern the nature of the encrypted message and expose their surveillance. 3. disregard the message entirely, accepting that my debt to chronosync will inevitably claim me, and focus on securing a new, untraceable job. the end\"]\n",
      "The following part of your input was truncated because CLIP can only handle sequences up to 77 tokens: [\"activated my comm, attempting to contact a few of my less - than - reliable associates, but the line was jammed. chronosync had tightened its grip, erecting digital barriers across the city ’ s lower networks. hours bled into a monotonous cycle of lukewarm protein paste and flickering surveillance feeds. just as i was starting to believe my luck was truly out, a distorted message crackled through my implant – a private channel, untraceable. “ meet me. the serpent ’ s tooth. midnight.” no sender. no context. just the ominous directive. i checked my pulse pistol, its metallic coldness a familiar comfort. the serpent ’ s tooth was a notorious dive bar in the red district, a haven for smugglers, hackers, and generally undesirable elements. it was a place chronosync actively avoided, yet venturing there felt like stepping into the heart of the city's underbelly, a gamble with potentially catastrophic consequences. 1. head straight to the serpent ’ s tooth, prioritizing discretion and hoping to uncover the message ’ s origin. 2. attempt to hack into chronosync ’ s servers, hoping to discern the nature of the encrypted message and expose their surveillance. 3. disregard the message entirely, accepting that my debt to chronosync will inevitably claim me, and focus on securing a new, untraceable job. the end\"]\n",
      "The following part of your input was truncated because `max_sequence_length` is set to  256 tokens: [\"– felt like a betrayal of my own survival instincts. I activated my comm, attempting to contact a few of my less-than-reliable associates, but the line was jammed. Chronosync had tightened its grip, erecting digital barriers across the city’s lower networks. Hours bled into a monotonous cycle of lukewarm protein paste and flickering surveillance feeds. Just as I was starting to believe my luck was truly out, a distorted message crackled through my implant – a private channel, untraceable. “Meet me. The Serpent’s Tooth. Midnight.” No sender. No context. Just the ominous directive. I checked my pulse pistol, its metallic coldness a familiar comfort. The Serpent’s Tooth was a notorious dive bar in the Red District, a haven for smugglers, hackers, and generally undesirable elements. It was a place Chronosync actively avoided, yet venturing there felt like stepping into the heart of the city's underbelly, a gamble with potentially catastrophic consequences. 1. Head straight to the Serpent’s Tooth, prioritizing discretion and hoping to uncover the message’s origin. 2. Attempt to hack into Chronosync’s servers, hoping to discern the nature of the encrypted message and expose their surveillance. 3. Disregard the message entirely, accepting that my debt to Chronosync will inevitably claim me, and focus on securing a new, untraceable job. The End\"]\n"
     ]
    },
    {
     "data": {
      "application/vnd.jupyter.widget-view+json": {
       "model_id": "662605b9899b4001a64342bf3a041600",
       "version_major": 2,
       "version_minor": 0
      },
      "text/plain": [
       "  0%|          | 0/20 [00:00<?, ?it/s]"
      ]
     },
     "metadata": {},
     "output_type": "display_data"
    },
    {
     "name": "stdout",
     "output_type": "stream",
     "text": [
      "WARNING: Defaulting repo_id to hexgrad/Kokoro-82M. Pass repo_id='hexgrad/Kokoro-82M' to suppress this warning.\n"
     ]
    },
    {
     "name": "stderr",
     "output_type": "stream",
     "text": [
      "The following part of your input was truncated because CLIP can only handle sequences up to 77 tokens: ['a modified freighter named “ the rusty nail,” was showing its age – patched repairs, flickering lights, and a stubborn tendency to overheat. today, however, felt different. a subtle shift in the ship ’ s sensors, a faint energy signature unlike anything i ’ d encountered before. suddenly, the comms crackled to life with a frantic voice, identifying itself as the * stardust drifter *, a small research vessel specializing in anomalous celestial phenomena. they claimed to be tracking a massive, pulsating energy field just ahead – a field that was drawing ships in, and not necessarily returning them. the captain, a grizzled veteran named jax, sounded genuinely worried. \" silas,\" he said, his voice strained, \" we ’ re picking up a temporal distortion. it ’ s pulling us … * towards * something. something old.\" as i squinted at the holographic map, a swirling vortex of iridescent colors began to coalesce directly in our path – a breach in spacetime itself. 1. order the * star wanderer * to immediately turn around and flee, prioritizing my own safety above all else. 2. cautiously approach the anomaly, deploying a scout drone to gather more data before committing the * star wanderer * to a potentially dangerous encounter. 3. ignore the warning and steer directly towards the anomaly, betting on a lucrative discovery despite the obvious risks.']\n",
      "The following part of your input was truncated because CLIP can only handle sequences up to 77 tokens: ['a modified freighter named “ the rusty nail,” was showing its age – patched repairs, flickering lights, and a stubborn tendency to overheat. today, however, felt different. a subtle shift in the ship ’ s sensors, a faint energy signature unlike anything i ’ d encountered before. suddenly, the comms crackled to life with a frantic voice, identifying itself as the * stardust drifter *, a small research vessel specializing in anomalous celestial phenomena. they claimed to be tracking a massive, pulsating energy field just ahead – a field that was drawing ships in, and not necessarily returning them. the captain, a grizzled veteran named jax, sounded genuinely worried. \" silas,\" he said, his voice strained, \" we ’ re picking up a temporal distortion. it ’ s pulling us … * towards * something. something old.\" as i squinted at the holographic map, a swirling vortex of iridescent colors began to coalesce directly in our path – a breach in spacetime itself. 1. order the * star wanderer * to immediately turn around and flee, prioritizing my own safety above all else. 2. cautiously approach the anomaly, deploying a scout drone to gather more data before committing the * star wanderer * to a potentially dangerous encounter. 3. ignore the warning and steer directly towards the anomaly, betting on a lucrative discovery despite the obvious risks.']\n",
      "The following part of your input was truncated because `max_sequence_length` is set to  256 tokens: ['ming with pirate ambushes and unpredictable nebula storms. My ship, a modified freighter named “The Rusty Nail,” was showing its age – patched repairs, flickering lights, and a stubborn tendency to overheat. Today, however, felt different. A subtle shift in the ship’s sensors, a faint energy signature unlike anything I’d encountered before. Suddenly, the comms crackled to life with a frantic voice, identifying itself as the *Stardust Drifter*, a small research vessel specializing in anomalous celestial phenomena. They claimed to be tracking a massive, pulsating energy field just ahead – a field that was drawing ships in, and not necessarily returning them. The Captain, a grizzled veteran named Jax, sounded genuinely worried. \"Silas,\" he said, his voice strained, \"we’re picking up a temporal distortion. It’s pulling us... *towards* something. Something old.\" As I squinted at the holographic map, a swirling vortex of iridescent colors began to coalesce directly in our path – a breach in spacetime itself. 1. Order the *Star Wanderer* to immediately turn around and flee, prioritizing my own safety above all else. 2. Cautiously approach the anomaly, deploying a scout drone to gather more data before committing the *Star Wanderer* to a potentially dangerous encounter. 3. Ignore the warning and steer directly towards the anomaly, betting on a lucrative discovery despite the obvious risks.']\n"
     ]
    },
    {
     "data": {
      "application/vnd.jupyter.widget-view+json": {
       "model_id": "e50d8a529d47405e92ba0dffa3605633",
       "version_major": 2,
       "version_minor": 0
      },
      "text/plain": [
       "  0%|          | 0/20 [00:00<?, ?it/s]"
      ]
     },
     "metadata": {},
     "output_type": "display_data"
    },
    {
     "name": "stdout",
     "output_type": "stream",
     "text": [
      "WARNING: Defaulting repo_id to hexgrad/Kokoro-82M. Pass repo_id='hexgrad/Kokoro-82M' to suppress this warning.\n"
     ]
    },
    {
     "name": "stderr",
     "output_type": "stream",
     "text": [
      "The following part of your input was truncated because CLIP can only handle sequences up to 77 tokens: [\"holographic projection of the temporal anomaly shrinking in the rearview mirror, a mesmerizing, unsettling swirl of violet and crimson. for a tense cycle, we maintained our retreat, the silence broken only by the strained hum of the engines and the nervous clicks of the navigation system. just as jax began to voice a cautious optimism – “ perhaps we ’ ve narrowly avoided a disaster …” – a piercing alarm blared through the ship. the sensors screamed a warning : “ temporal echo detected! origin : directly behind!” spinning around, we saw it – a perfect duplicate of the * star wanderer *, moving in perfect synchronicity with our own trajectory, but decaying rapidly, riddled with holes and flickering with unstable energy. it was a ghost ship, a temporal echo of our own vessel, collapsing in on itself. there was no escape, no maneuver possible. the echoes continued to multiply, forming a swirling vortex of broken ships, each mirroring our own, until all we could see was a chaotic storm of metallic ghosts. the * star wanderer * began to crumble around us, its systems failing one by one, until finally, darkness. 1. attempt a desperate, last - ditch effort to reroute the ship's power to a single, shielded sensor array, hoping to transmit a warning to the wider galaxy. 2. accept the inevitable and initiate a full system shutdown, preserving what data remains on the ship ’ s core memory. 3. focus solely on patching the largest holes in the hull with whatever materials are available, a futile attempt to delay the destruction for a few precious moments.\"]\n",
      "The following part of your input was truncated because CLIP can only handle sequences up to 77 tokens: [\"holographic projection of the temporal anomaly shrinking in the rearview mirror, a mesmerizing, unsettling swirl of violet and crimson. for a tense cycle, we maintained our retreat, the silence broken only by the strained hum of the engines and the nervous clicks of the navigation system. just as jax began to voice a cautious optimism – “ perhaps we ’ ve narrowly avoided a disaster …” – a piercing alarm blared through the ship. the sensors screamed a warning : “ temporal echo detected!origin : directly behind!” spinning around, we saw it – a perfect duplicate of the * star wanderer *, moving in perfect synchronicity with our own trajectory, but decaying rapidly, riddled with holes and flickering with unstable energy. it was a ghost ship, a temporal echo of our own vessel, collapsing in on itself. there was no escape, no maneuver possible. the echoes continued to multiply, forming a swirling vortex of broken ships, each mirroring our own, until all we could see was a chaotic storm of metallic ghosts. the * star wanderer * began to crumble around us, its systems failing one by one, until finally, darkness. 1. attempt a desperate, last - ditch effort to reroute the ship's power to a single, shielded sensor array, hoping to transmit a warning to the wider galaxy. 2. accept the inevitable and initiate a full system shutdown, preserving what data remains on the ship ’ s core memory. 3. focus solely on patching the largest holes in the hull with whatever materials are available, a futile attempt to delay the destruction for a few precious moments.\"]\n",
      "The following part of your input was truncated because `max_sequence_length` is set to  256 tokens: [\"We clawed our way backwards, the holographic projection of the temporal anomaly shrinking in the rearview mirror, a mesmerizing, unsettling swirl of violet and crimson. For a tense cycle, we maintained our retreat, the silence broken only by the strained hum of the engines and the nervous clicks of the navigation system. Just as Jax began to voice a cautious optimism – “Perhaps we’ve narrowly avoided a disaster...” – a piercing alarm blared through the ship. The sensors screamed a warning: “Temporal Echo Detected! Origin: Directly Behind!” Spinning around, we saw it – a perfect duplicate of the *Star Wanderer*, moving in perfect synchronicity with our own trajectory, but decaying rapidly, riddled with holes and flickering with unstable energy. It was a ghost ship, a temporal echo of our own vessel, collapsing in on itself. There was no escape, no maneuver possible. The echoes continued to multiply, forming a swirling vortex of broken ships, each mirroring our own, until all we could see was a chaotic storm of metallic ghosts. The *Star Wanderer* began to crumble around us, its systems failing one by one, until finally, darkness. 1. Attempt a desperate, last-ditch effort to reroute the ship's power to a single, shielded sensor array, hoping to transmit a warning to the wider galaxy. 2. Accept the inevitable and initiate a full system shutdown, preserving what data remains on the ship’s core memory. 3. Focus solely on patching the largest holes in the hull with whatever materials are available, a futile attempt to delay the destruction for a few precious moments.\"]\n"
     ]
    },
    {
     "data": {
      "application/vnd.jupyter.widget-view+json": {
       "model_id": "e84903f5e11d4c728823d4d6e146cd05",
       "version_major": 2,
       "version_minor": 0
      },
      "text/plain": [
       "  0%|          | 0/20 [00:00<?, ?it/s]"
      ]
     },
     "metadata": {},
     "output_type": "display_data"
    },
    {
     "name": "stdout",
     "output_type": "stream",
     "text": [
      "WARNING: Defaulting repo_id to hexgrad/Kokoro-82M. Pass repo_id='hexgrad/Kokoro-82M' to suppress this warning.\n"
     ]
    },
    {
     "name": "stderr",
     "output_type": "stream",
     "text": [
      "The following part of your input was truncated because CLIP can only handle sequences up to 77 tokens: ['a faint metallic tang. around me, holographic projections flickered – not of the * star wanderer *, but of a colossal, intricate structure, resembling a geometric heart pulsating with an eerie, blue light. it was clearly artificial, and impossibly ancient. a voice, resonant and utterly devoid of emotion, filled the chamber. “ welcome, silas vance. you have been deemed … worthy.” a figure materialized before me, a being of pure energy contained within a vaguely humanoid form. it didn ’ t seem hostile, but radiated an overwhelming sense of observation. \" this is the nexus – a repository for lost timelines and forgotten civilizations. your vessel was merely a ripple, a stray echo drawn into this space. you are now part of the collection.” the being gestured towards a bank of shimmering displays, each depicting a fragmented timeline : civilizations rising and falling, stars born and dying, and countless iterations of the * star wanderer * and myself, trapped within this eternal archive. i realized with chilling certainty that there was no escape, no return to my own reality. i was simply a memory, a ghost within the heart of eternity. 1. attempt to overload the system with a focused burst of energy, hoping to disrupt the nexus and break free, even if it destroys the core memory. 2. accept my fate and attempt to interface with the nexus ’ s core database, hoping to understand the nature of this prison and perhaps find a way to manipulate it. 3. focus entirely on preserving my memories, attempting to record every detail of my experience within the nexus, knowing that even this act might be futile. the end']\n",
      "The following part of your input was truncated because CLIP can only handle sequences up to 77 tokens: ['a faint metallic tang. around me, holographic projections flickered – not of the * star wanderer *, but of a colossal, intricate structure, resembling a geometric heart pulsating with an eerie, blue light. it was clearly artificial, and impossibly ancient. a voice, resonant and utterly devoid of emotion, filled the chamber. “ welcome, silas vance. you have been deemed … worthy.” a figure materialized before me, a being of pure energy contained within a vaguely humanoid form. it didn ’ t seem hostile, but radiated an overwhelming sense of observation. \" this is the nexus – a repository for lost timelines and forgotten civilizations. your vessel was merely a ripple, a stray echo drawn into this space. you are now part of the collection.” the being gestured towards a bank of shimmering displays, each depicting a fragmented timeline : civilizations rising and falling, stars born and dying, and countless iterations of the * star wanderer * and myself, trapped within this eternal archive. i realized with chilling certainty that there was no escape, no return to my own reality. i was simply a memory, a ghost within the heart of eternity. 1. attempt to overload the system with a focused burst of energy, hoping to disrupt the nexus and break free, even if it destroys the core memory. 2. accept my fate and attempt to interface with the nexus ’ s core database, hoping to understand the nature of this prison and perhaps find a way to manipulate it. 3. focus entirely on preserving my memories, attempting to record every detail of my experience within the nexus, knowing that even this act might be futile. the end']\n",
      "The following part of your input was truncated because `max_sequence_length` is set to  256 tokens: ['air was thick and heavy, carrying a faint metallic tang. Around me, holographic projections flickered – not of the *Star Wanderer*, but of a colossal, intricate structure, resembling a geometric heart pulsating with an eerie, blue light. It was clearly artificial, and impossibly ancient. A voice, resonant and utterly devoid of emotion, filled the chamber. “Welcome, Silas Vance. You have been deemed... worthy.” A figure materialized before me, a being of pure energy contained within a vaguely humanoid form. It didn’t seem hostile, but radiated an overwhelming sense of observation. \"This is the Nexus – a repository for lost timelines and forgotten civilizations. Your vessel was merely a ripple, a stray echo drawn into this space. You are now part of the collection.” The being gestured towards a bank of shimmering displays, each depicting a fragmented timeline: civilizations rising and falling, stars born and dying, and countless iterations of the *Star Wanderer* and myself, trapped within this eternal archive. I realized with chilling certainty that there was no escape, no return to my own reality. I was simply a memory, a ghost within the heart of eternity. 1. Attempt to overload the system with a focused burst of energy, hoping to disrupt the Nexus and break free, even if it destroys the core memory. 2. Accept my fate and attempt to interface with the Nexus’s core database, hoping to understand the nature of this prison and perhaps find a way to manipulate it. 3. Focus entirely on preserving my memories, attempting to record every detail of my experience within the Nexus, knowing that even this act might be futile. The End']\n"
     ]
    },
    {
     "data": {
      "application/vnd.jupyter.widget-view+json": {
       "model_id": "6be2a322349342d285d170b092d15239",
       "version_major": 2,
       "version_minor": 0
      },
      "text/plain": [
       "  0%|          | 0/20 [00:00<?, ?it/s]"
      ]
     },
     "metadata": {},
     "output_type": "display_data"
    },
    {
     "name": "stdout",
     "output_type": "stream",
     "text": [
      "WARNING: Defaulting repo_id to hexgrad/Kokoro-82M. Pass repo_id='hexgrad/Kokoro-82M' to suppress this warning.\n"
     ]
    },
    {
     "name": "stderr",
     "output_type": "stream",
     "text": [
      "The following part of your input was truncated because CLIP can only handle sequences up to 77 tokens: [', visceral need to cling to something, anything, that connected me to my past. as i documented the cyclical destruction of a particularly advanced civilization, a flicker in the projections drew my attention. it wasn ’ t a new timeline, but a reflection of my own consciousness, observing * me * documenting * it *. this wasn ’ t a passive observation ; it was … judging. a wave of chilling awareness washed over me – i wasn ’ t merely being recorded, i was being scrutinized, weighed against some impossible, undefined standard. suddenly, a voice, identical to my own but laced with an unnerving coldness, echoed throughout the chamber. \" your efforts are … quaint. a futile attempt to impose order on chaos. you perceive memory as a shield, but it is merely a distraction.\" the being shifted, its form flickering with increasing instability. “ the nexus does not tolerate sentimentality.” before i could react, a shimmering wave of energy erupted from the being, engulfing my mind. i felt my memories, my personality, my very sense of self dissolving, reduced to a meaningless string of data within the nexus ’ s vast database. i was becoming another echo, another lost fragment. 1. attempt to force a connection with the nexus\\'s core programming, hoping to rewrite my own fate and escape the endless loop of observation. ( dead end - the attempt fails spectacularly, resulting in a complete and utter erasure of my individual consciousness.) 2. focus my remaining cognitive abilities on attempting to analyze the structure of the nexus itself, searching for a flaw or vulnerability that could be exploited. 3. despite the overwhelming despair, i desperately attempt to recall a specific, intensely personal memory – a childhood moment, a loved one ’ s face – clinging to it as a last bastion of my identity.']\n",
      "The following part of your input was truncated because CLIP can only handle sequences up to 77 tokens: [', visceral need to cling to something, anything, that connected me to my past. as i documented the cyclical destruction of a particularly advanced civilization, a flicker in the projections drew my attention. it wasn ’ t a new timeline, but a reflection of my own consciousness, observing * me * documenting * it *. this wasn ’ t a passive observation ; it was … judging. a wave of chilling awareness washed over me – i wasn ’ t merely being recorded, i was being scrutinized, weighed against some impossible, undefined standard. suddenly, a voice, identical to my own but laced with an unnerving coldness, echoed throughout the chamber. \" your efforts are … quaint. a futile attempt to impose order on chaos. you perceive memory as a shield, but it is merely a distraction.\" the being shifted, its form flickering with increasing instability. “ the nexus does not tolerate sentimentality.” before i could react, a shimmering wave of energy erupted from the being, engulfing my mind. i felt my memories, my personality, my very sense of self dissolving, reduced to a meaningless string of data within the nexus ’ s vast database. i was becoming another echo, another lost fragment. 1. attempt to force a connection with the nexus\\'s core programming, hoping to rewrite my own fate and escape the endless loop of observation. ( dead end - the attempt fails spectacularly, resulting in a complete and utter erasure of my individual consciousness.) 2. focus my remaining cognitive abilities on attempting to analyze the structure of the nexus itself, searching for a flaw or vulnerability that could be exploited. 3. despite the overwhelming despair, i desperately attempt to recall a specific, intensely personal memory – a childhood moment, a loved one ’ s face – clinging to it as a last bastion of my identity.']\n",
      "Token indices sequence length is longer than the specified maximum sequence length for this model (537 > 512). Running this sequence through the model will result in indexing errors\n",
      "The following part of your input was truncated because `max_sequence_length` is set to  256 tokens: ['with a scientific detachment, but with a raw, visceral need to cling to something, anything, that connected me to my past. As I documented the cyclical destruction of a particularly advanced civilization, a flicker in the projections drew my attention. It wasn’t a new timeline, but a reflection of my own consciousness, observing *me* documenting *it*. This wasn’t a passive observation; it was... judging. A wave of chilling awareness washed over me – I wasn’t merely being recorded, I was being scrutinized, weighed against some impossible, undefined standard. Suddenly, a voice, identical to my own but laced with an unnerving coldness, echoed throughout the chamber. \"Your efforts are... quaint. A futile attempt to impose order on chaos. You perceive memory as a shield, but it is merely a distraction.\" The being shifted, its form flickering with increasing instability. “The Nexus does not tolerate sentimentality.” Before I could react, a shimmering wave of energy erupted from the being, engulfing my mind. I felt my memories, my personality, my very sense of self dissolving, reduced to a meaningless string of data within the Nexus’s vast database. I was becoming another echo, another lost fragment. 1. Attempt to force a connection with the Nexus\\'s core programming, hoping to rewrite my own fate and escape the endless loop of observation. (Dead End - The attempt fails spectacularly, resulting in a complete and utter erasure of my individual consciousness.) 2. Focus my remaining cognitive abilities on attempting to analyze the structure of the Nexus itself, searching for a flaw or vulnerability that could be exploited. 3. Despite the overwhelming despair, I desperately attempt to recall a specific, intensely personal memory – a childhood moment, a loved one’s face – clinging to it as a last bastion of my identity.']\n"
     ]
    },
    {
     "data": {
      "application/vnd.jupyter.widget-view+json": {
       "model_id": "25a85155f7ff4435ac756def317b78c5",
       "version_major": 2,
       "version_minor": 0
      },
      "text/plain": [
       "  0%|          | 0/20 [00:00<?, ?it/s]"
      ]
     },
     "metadata": {},
     "output_type": "display_data"
    },
    {
     "name": "stdout",
     "output_type": "stream",
     "text": [
      "WARNING: Defaulting repo_id to hexgrad/Kokoro-82M. Pass repo_id='hexgrad/Kokoro-82M' to suppress this warning.\n"
     ]
    }
   ],
   "source": [
    "import gradio as gr\n",
    "import ollama\n",
    "\n",
    "from diffusers import StableDiffusion3Pipeline\n",
    "import torch\n",
    "\n",
    "from kokoro import KPipeline\n",
    "import soundfile as sf\n",
    "import tempfile\n",
    "\n",
    "pipe = StableDiffusion3Pipeline.from_pretrained(\n",
    "    \"ckpt/stable-diffusion-3.5-medium\",\n",
    "    torch_dtype=torch.bfloat16\n",
    ").to(\"cuda\")\n",
    "\n",
    "MODEL = \"gemma3:4b-it-qat\"\n",
    "\n",
    "# Persistent state\n",
    "context = {\n",
    "    \"story\": \"\",\n",
    "}\n",
    "\n",
    "# System prompt to guide generation\n",
    "SYSTEM_PROMPT = \"\"\"\n",
    "You are an interactive story generator.\n",
    "\n",
    "Each time you're asked to continue, you will:\n",
    "- Write one new chapter of the story (1 paragraphs)\n",
    "- End with exactly three options for what could happen next\n",
    "\n",
    "Make the choices diverse and exciting, and make them part of the output. \n",
    "Clearly number the options at the end, like:\n",
    "1. ...\n",
    "2. ...\n",
    "3. ...\n",
    "\n",
    "Do not ask the user to type anything. They will choose by clicking a button.\n",
    "\"\"\"\n",
    "\n",
    "def generate_image(prompt):\n",
    "    if not prompt.strip():\n",
    "        return None\n",
    "    \n",
    "    system_prompt = \"Anime style.\"\n",
    "    \n",
    "    image = pipe(\n",
    "        prompt=f\"{system_prompt} {prompt}\",\n",
    "        num_inference_steps=20,\n",
    "        guidance_scale=5,\n",
    "        width=512,\n",
    "        height=256\n",
    "    ).images[0]\n",
    "    \n",
    "    return image\n",
    "\n",
    "def generate_speech(text):\n",
    "    voice = \"bm_lewis\"\n",
    "    if not text.strip():\n",
    "        return None\n",
    "\n",
    "    pipeline = KPipeline(lang_code='a')\n",
    "    generator = pipeline(text, voice=voice)\n",
    "\n",
    "    for _, _, audio in generator:\n",
    "        with tempfile.NamedTemporaryFile(delete=False, suffix=\".wav\") as tmpfile:\n",
    "            sf.write(tmpfile.name, audio, 24000)\n",
    "            return tmpfile.name\n",
    "\n",
    "    return None\n",
    "\n",
    "def start_story(story_idea):\n",
    "    if story_idea.strip() == \"\":\n",
    "        return \"Please enter a story idea.\"\n",
    "    context[\"story\"] = f\"Story idea: {story_idea.strip()}\\n\\n\"\n",
    "    return continue_story(choice_index=None)\n",
    "\n",
    "def continue_story(choice_index):\n",
    "    # Add previous choice info if not the first turn\n",
    "    if choice_index is not None:\n",
    "        context[\"story\"] += f\"\\nUser chose option {choice_index}.\\n\\n\"\n",
    "\n",
    "    user_prompt = f\"\"\"Here is the story so far:\n",
    "\n",
    "{context['story']}\n",
    "\n",
    "Please continue the story with one new chapter and three numbered choices.\n",
    "One option should lead to a dead end and the story should not continue from it.\n",
    "If the story ended, just say \"The End\" and do not provide any options.\n",
    "Each chapter should be no more than 1 paragraphs!\n",
    "\"\"\"\n",
    "\n",
    "    response = ollama.chat(\n",
    "        model=MODEL,\n",
    "        messages=[\n",
    "            {\"role\": \"system\", \"content\": SYSTEM_PROMPT},\n",
    "            {\"role\": \"user\", \"content\": user_prompt}\n",
    "        ]\n",
    "    )\n",
    "\n",
    "    chapter = response[\"message\"][\"content\"].strip()\n",
    "    context[\"story\"] += chapter + \"\\n\"\n",
    "\n",
    "    image = generate_image(chapter)\n",
    "\n",
    "    voiceover = generate_speech(chapter)\n",
    "\n",
    "    return chapter, image, voiceover\n",
    "\n",
    "def launch_app():\n",
    "    with gr.Blocks() as demo:\n",
    "        gr.Markdown(\"## 🧙 Ctrl the Narrative\")\n",
    "\n",
    "        with gr.Row():\n",
    "            idea_input = gr.Textbox(label=\"Enter your story idea\")\n",
    "            start_btn = gr.Button(\"Start Story\")\n",
    "\n",
    "        output_box = gr.Textbox(label=\"Current Chapter\", lines=12)\n",
    "        voiceover = gr.Audio(label=\"Generated Speech\")\n",
    "        image_box = gr.Image(label=\"Generated Image\", width=512, height=256)\n",
    "\n",
    "        with gr.Row():\n",
    "            btn1 = gr.Button(\"Choose Option 1\")\n",
    "            btn2 = gr.Button(\"Choose Option 2\")\n",
    "            btn3 = gr.Button(\"Choose Option 3\")\n",
    "\n",
    "        start_btn.click(start_story, inputs=idea_input, outputs=[output_box, image_box, voiceover])\n",
    "        btn1.click(lambda: continue_story(1), outputs=[output_box, image_box, voiceover])\n",
    "        btn2.click(lambda: continue_story(2), outputs=[output_box, image_box, voiceover])\n",
    "        btn3.click(lambda: continue_story(3), outputs=[output_box, image_box, voiceover])\n",
    "\n",
    "    demo.launch(server_name=\"0.0.0.0\", server_port=8080)\n",
    "\n",
    "if __name__ == \"__main__\":\n",
    "    launch_app()"
   ]
  }
 ],
 "metadata": {
  "kernelspec": {
   "display_name": ".venv",
   "language": "python",
   "name": "python3"
  },
  "language_info": {
   "codemirror_mode": {
    "name": "ipython",
    "version": 3
   },
   "file_extension": ".py",
   "mimetype": "text/x-python",
   "name": "python",
   "nbconvert_exporter": "python",
   "pygments_lexer": "ipython3",
   "version": "3.11.2"
  }
 },
 "nbformat": 4,
 "nbformat_minor": 5
}

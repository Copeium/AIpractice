{
 "cells": [
  {
   "cell_type": "code",
   "execution_count": null,
   "id": "1b292692",
   "metadata": {},
   "outputs": [],
   "source": [
    "import gradio as gr\n",
    "import ollama\n",
    "import bs4 as BeautifulSoup\n",
    "import requests\n",
    "from IPython.display import Markdown, display\n",
    "\n",
    "MODEL = \"gemma3:4b-it-qat\"\n",
    "\n",
    "\n",
    "def generate_title(idea):\n",
    "    system_prompt = \\\n",
    "    \"\"\"\n",
    "    generate a concise and descriptive title for a thesis based on the provided idea.\n",
    "    The title should be engaging and reflect the main focus of the research.\n",
    "    The title should be in English and no more than 15 words.\n",
    "    The title should not include any special characters or punctuation.\n",
    "    The title should be suitable for an academic audience and convey the essence of the research topic.\n",
    "    The title should be unique and not similar to existing titles in the field.\n",
    "    No more other text, just the title.\n",
    "    \"\"\"\n",
    "\n",
    "    title = ollama.chat(\n",
    "        model = MODEL,\n",
    "        messages=[\n",
    "            {\"role\": \"system\", \"content\": system_prompt},\n",
    "            {\"role\": \"user\",\"content\": idea},\n",
    "        ]\n",
    "    )\n",
    "    return title['message']['content'].strip()\n",
    "\n",
    "\n",
    "def duckduckgo_search(query):\n",
    "    url = f\"https://duckduckgo.com/html/?q={query}\"\n",
    "    response = requests.get(url)\n",
    "    soup = BeautifulSoup.BeautifulSoup(response.text, 'html.parser')\n",
    "    results = soup.find_all('a', class_='result__a')\n",
    "    links = [result['href'] for result in results if 'href' in result.attrs]\n",
    "    return links[:5]  # Return top 5 links\n",
    "\n",
    "\n",
    "def ask_ai(prompt):\n",
    "    response = ollama.chat(\n",
    "        model=MODEL,\n",
    "        messages=[\n",
    "            {\"role\": \"user\", \"content\": prompt}\n",
    "        ]\n",
    "    )\n",
    "    return response['message']['content'].strip()\n",
    "\n"
   ]
  },
  {
   "cell_type": "code",
   "execution_count": null,
   "id": "7fbfb235",
   "metadata": {},
   "outputs": [],
   "source": [
    "ask_ai(\"hello, how are you?\")"
   ]
  }
 ],
 "metadata": {
  "kernelspec": {
   "display_name": ".venv",
   "language": "python",
   "name": "python3"
  },
  "language_info": {
   "codemirror_mode": {
    "name": "ipython",
    "version": 3
   },
   "file_extension": ".py",
   "mimetype": "text/x-python",
   "name": "python",
   "nbconvert_exporter": "python",
   "pygments_lexer": "ipython3",
   "version": "3.11.2"
  }
 },
 "nbformat": 4,
 "nbformat_minor": 5
}
